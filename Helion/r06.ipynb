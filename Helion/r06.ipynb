{
 "cells": [
  {
   "cell_type": "markdown",
   "metadata": {},
   "source": [
    "# Szeregi czasowe\n",
    "## DatetimeIndex"
   ]
  },
  {
   "cell_type": "code",
   "execution_count": null,
   "metadata": {},
   "outputs": [],
   "source": [
    "# Zacznijmy od zaimportowania pakietów, których użyjemy w tym rozdziale\n",
    "# oraz od ustawienia silnika tworzenia wykresów na Plotly.\n",
    "import pandas as pd\n",
    "import numpy as np\n",
    "pd.options.plotting.backend = \"plotly\""
   ]
  },
  {
   "cell_type": "code",
   "execution_count": null,
   "metadata": {},
   "outputs": [],
   "source": [
    "# To tworzy DatetimeIndex na podstawie znacznika czasu początkowego,\n",
    "# liczby okresów i częstotliwości (\"D\" = dzienna).\n",
    "daily_index = pd.date_range(\"2020-02-28\", periods=4, freq=\"D\")\n",
    "daily_index"
   ]
  },
  {
   "cell_type": "code",
   "execution_count": null,
   "metadata": {},
   "outputs": [],
   "source": [
    "# To tworzy DatetimeIndex na podstawie znaczników czasowych początku i końca.\n",
    "# Częstotliwość jest ustawiona na \"co tydzień w niedziele\" (\"W-SUN\").\n",
    "weekly_index = pd.date_range(\"2020-01-01\", \"2020-01-31\", freq=\"W-SUN\")\n",
    "weekly_index"
   ]
  },
  {
   "cell_type": "code",
   "execution_count": null,
   "metadata": {},
   "outputs": [],
   "source": [
    "# Utworzenie DataFrame na podstawie weekly_index. Może to być liczba\n",
    "# odwiedzających muzeum, które jest otwarte tylko w niedziele.\n",
    "pd.DataFrame(data=[21, 15, 33, 34],\n",
    "             columns=[\"odwiedzający\"], index=weekly_index)"
   ]
  },
  {
   "cell_type": "code",
   "execution_count": null,
   "metadata": {},
   "outputs": [],
   "source": [
    "msft = pd.read_csv(\"csv/MSFT.csv\")"
   ]
  },
  {
   "cell_type": "code",
   "execution_count": null,
   "metadata": {},
   "outputs": [],
   "source": [
    "msft.info()"
   ]
  },
  {
   "cell_type": "code",
   "execution_count": null,
   "metadata": {},
   "outputs": [],
   "source": [
    "msft.loc[:, \"Date\"] = pd.to_datetime(msft[\"Date\"])"
   ]
  },
  {
   "cell_type": "code",
   "execution_count": null,
   "metadata": {},
   "outputs": [],
   "source": [
    "msft.dtypes"
   ]
  },
  {
   "cell_type": "code",
   "execution_count": null,
   "metadata": {},
   "outputs": [],
   "source": [
    "msft = pd.read_csv(\"csv/MSFT.csv\",\n",
    "                   index_col=\"Date\", parse_dates=[\"Date\"])"
   ]
  },
  {
   "cell_type": "code",
   "execution_count": null,
   "metadata": {},
   "outputs": [],
   "source": [
    "msft.info()"
   ]
  },
  {
   "cell_type": "code",
   "execution_count": null,
   "metadata": {},
   "outputs": [],
   "source": [
    "msft.loc[:, \"Volume\"] = msft[\"Volume\"].astype(\"float\")\n",
    "msft[\"Volume\"].dtype"
   ]
  },
  {
   "cell_type": "code",
   "execution_count": null,
   "metadata": {},
   "outputs": [],
   "source": [
    "msft = msft.sort_index()"
   ]
  },
  {
   "cell_type": "code",
   "execution_count": null,
   "metadata": {},
   "outputs": [],
   "source": [
    "msft.index.date"
   ]
  },
  {
   "cell_type": "code",
   "execution_count": null,
   "metadata": {},
   "outputs": [],
   "source": [
    "msft.loc[\"2019\", \"Adj Close\"]"
   ]
  },
  {
   "cell_type": "code",
   "execution_count": null,
   "metadata": {},
   "outputs": [],
   "source": [
    "msft.loc[\"2019-06\":\"2020-05\", \"Adj Close\"].plot()"
   ]
  },
  {
   "cell_type": "markdown",
   "metadata": {},
   "source": [
    "## Praca ze strefami czasowymi"
   ]
  },
  {
   "cell_type": "code",
   "execution_count": null,
   "metadata": {},
   "outputs": [],
   "source": [
    "# Dodanie do daty informacji o godzinie\n",
    "msft_close = msft.loc[:, [\"Adj Close\"]].copy()\n",
    "msft_close.index = msft_close.index + pd.DateOffset(hours=16)\n",
    "msft_close.head(2)"
   ]
  },
  {
   "cell_type": "code",
   "execution_count": null,
   "metadata": {},
   "outputs": [],
   "source": [
    "# Uwzględnienie strefy czasowej w znacznikach czasu\n",
    "msft_close = msft_close.tz_localize(\"America/New_York\")\n",
    "msft_close.head(2)"
   ]
  },
  {
   "cell_type": "code",
   "execution_count": null,
   "metadata": {},
   "outputs": [],
   "source": [
    "msft_close = msft_close.tz_convert(\"UTC\")\n",
    "msft_close.loc[\"2020-01-02\", \"Adj Close\"]  # 21:00 bez DST"
   ]
  },
  {
   "cell_type": "code",
   "execution_count": null,
   "metadata": {},
   "outputs": [],
   "source": [
    "msft_close.loc[\"2020-05-01\", \"Adj Close\"]  # 20:00 z DST"
   ]
  },
  {
   "cell_type": "markdown",
   "metadata": {},
   "source": [
    "## Przesunięcia i zmiany procentowe"
   ]
  },
  {
   "cell_type": "code",
   "execution_count": null,
   "metadata": {},
   "outputs": [],
   "source": [
    "msft_close.head()"
   ]
  },
  {
   "cell_type": "code",
   "execution_count": null,
   "metadata": {},
   "outputs": [],
   "source": [
    "msft_close.shift(1).head()"
   ]
  },
  {
   "cell_type": "code",
   "execution_count": null,
   "metadata": {},
   "outputs": [],
   "source": [
    "returns = np.log(msft_close / msft_close.shift(1))\n",
    "returns = returns.rename(columns={\"Adj Close\": \"Stopa zwrotu\"})\n",
    "returns.head()"
   ]
  },
  {
   "cell_type": "code",
   "execution_count": null,
   "metadata": {},
   "outputs": [],
   "source": [
    "# Wykreślenie histogramu z dziennymi logarytmicznymi stopami zwrotu\n",
    "returns.plot.hist()"
   ]
  },
  {
   "cell_type": "code",
   "execution_count": null,
   "metadata": {},
   "outputs": [],
   "source": [
    "simple_rets = msft_close.pct_change()\n",
    "simple_rets = simple_rets.rename(columns={\"Adj Close\": \"Prosta stopa zwrotu\"})\n",
    "simple_rets.head()"
   ]
  },
  {
   "cell_type": "markdown",
   "metadata": {},
   "source": [
    "## Zmiana bazy i korelacja"
   ]
  },
  {
   "cell_type": "code",
   "execution_count": null,
   "metadata": {},
   "outputs": [],
   "source": [
    "parts = []  # Lista do zebrania poszczególnych DataFrame\n",
    "for ticker in [\"AAPL\", \"AMZN\", \"GOOGL\", \"MSFT\"]:\n",
    "    # \"usecols\" umożliwia nam wczytanie tylko kolumn Date i Adj Close\n",
    "    adj_close = pd.read_csv(f\"csv/{ticker}.csv\",\n",
    "                            index_col=\"Date\", parse_dates=[\"Date\"],\n",
    "                            usecols=[\"Date\", \"Adj Close\"])\n",
    "    # Zmiana nazwy kolumny na symbol giełdowy\n",
    "    adj_close = adj_close.rename(columns={\"Adj Close\": ticker})\n",
    "    # Dołączanie DataFrame z akcjami do listy parts\n",
    "    parts.append(adj_close)"
   ]
  },
  {
   "cell_type": "code",
   "execution_count": null,
   "metadata": {},
   "outputs": [],
   "source": [
    "# Połączenie czterech obiektów DataFrame w jeden\n",
    "adj_close = pd.concat(parts, axis=1)\n",
    "adj_close"
   ]
  },
  {
   "cell_type": "code",
   "execution_count": null,
   "metadata": {},
   "outputs": [],
   "source": [
    "adj_close = adj_close.dropna()\n",
    "adj_close.info()"
   ]
  },
  {
   "cell_type": "code",
   "execution_count": null,
   "metadata": {},
   "outputs": [],
   "source": [
    "# Użyjemy próbki z okresu czerwiec 2019 - maj 2020\n",
    "adj_close_sample = adj_close.loc[\"2019-06\":\"2020-05\", :]\n",
    "rebased_prices = adj_close_sample / adj_close_sample.iloc[0, :] * 100\n",
    "rebased_prices.head(2)"
   ]
  },
  {
   "cell_type": "code",
   "execution_count": null,
   "metadata": {},
   "outputs": [],
   "source": [
    "rebased_prices.plot()"
   ]
  },
  {
   "cell_type": "code",
   "execution_count": null,
   "metadata": {},
   "outputs": [],
   "source": [
    "# Korelacja dziennych logarytmicznych stóp zwrotu\n",
    "returns = np.log(adj_close / adj_close.shift(1))\n",
    "returns.corr()"
   ]
  },
  {
   "cell_type": "code",
   "execution_count": null,
   "metadata": {},
   "outputs": [],
   "source": [
    "import plotly.express as px"
   ]
  },
  {
   "cell_type": "code",
   "execution_count": null,
   "metadata": {},
   "outputs": [],
   "source": [
    "fig = px.imshow(returns.corr(),\n",
    "                x=adj_close.columns,\n",
    "                y=adj_close.columns,\n",
    "                color_continuous_scale=list(\n",
    "                    reversed(px.colors.sequential.RdBu)),\n",
    "                zmin=-1, zmax=1)\n",
    "fig.show()"
   ]
  },
  {
   "cell_type": "markdown",
   "metadata": {},
   "source": [
    "## Resampling"
   ]
  },
  {
   "cell_type": "code",
   "execution_count": null,
   "metadata": {},
   "outputs": [],
   "source": [
    "end_of_month = adj_close.resample(\"M\").last()\n",
    "end_of_month.head()"
   ]
  },
  {
   "cell_type": "code",
   "execution_count": null,
   "metadata": {},
   "outputs": [],
   "source": [
    "end_of_month.resample(\"D\").asfreq().head()  # Bez transformacji"
   ]
  },
  {
   "cell_type": "code",
   "execution_count": null,
   "metadata": {},
   "outputs": [],
   "source": [
    "end_of_month.resample(\"W-FRI\").ffill().head()  # Uzupełnianie wartości"
   ]
  },
  {
   "cell_type": "markdown",
   "metadata": {},
   "source": [
    "## Okna kroczące"
   ]
  },
  {
   "cell_type": "code",
   "execution_count": null,
   "metadata": {},
   "outputs": [],
   "source": [
    "# Wyznaczenie średniej kroczącej dla MSFT z danymi z 2019 r.\n",
    "msft19 = msft.loc[\"2019\", [\"Adj Close\"]].copy()\n",
    "# Dodanie 25-dniowej średniej kroczącej jako nowej kolumny DataFrame\n",
    "msft19.loc[:, \"średnia z 25 dni\"] = msft19[\"Adj Close\"].rolling(25).mean()\n",
    "msft19.plot()"
   ]
  }
 ],
 "metadata": {
  "kernelspec": {
   "display_name": "Python 3",
   "language": "python",
   "name": "python3"
  },
  "language_info": {
   "codemirror_mode": {
    "name": "ipython",
    "version": 3
   },
   "file_extension": ".py",
   "mimetype": "text/x-python",
   "name": "python",
   "nbconvert_exporter": "python",
   "pygments_lexer": "ipython3",
   "version": "3.8.5"
  }
 },
 "nbformat": 4,
 "nbformat_minor": 4
}
