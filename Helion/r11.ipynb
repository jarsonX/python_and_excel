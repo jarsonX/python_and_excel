{
 "cells": [
  {
   "cell_type": "markdown",
   "metadata": {},
   "source": [
    "# Wstęp do studium przypadku"
   ]
  },
  {
   "cell_type": "markdown",
   "metadata": {},
   "source": [
    "## Web API"
   ]
  },
  {
   "cell_type": "code",
   "execution_count": null,
   "metadata": {},
   "outputs": [],
   "source": [
    "import json"
   ]
  },
  {
   "cell_type": "code",
   "execution_count": null,
   "metadata": {
    "pycharm": {
     "name": "#%%\n"
    }
   },
   "outputs": [],
   "source": [
    "# Słownik Pythona...\n",
    "user_dict = {\"imię i nazwisko\": \"Anna Kowalska\",\n",
    "             \"wiek\": 23,\n",
    "             \"zamężna\": False,\n",
    "             \"dzieci\": None,\n",
    "             \"zainteresowania\": [\"góry\", \"książki\"]}"
   ]
  },
  {
   "cell_type": "code",
   "execution_count": null,
   "metadata": {
    "pycharm": {
     "name": "#%%\n"
    }
   },
   "outputs": [],
   "source": [
    "# ...przekonwertowany na łańcuch w formacie JSON\n",
    "# za pomocą json.dumps. Parametr \"indent\" jest\n",
    "# opcjonalny i służy upiększeniu wydruku.\n",
    "user_json = json.dumps(user_dict, indent=4)\n",
    "print(user_json)"
   ]
  },
  {
   "cell_type": "code",
   "execution_count": null,
   "metadata": {
    "pycharm": {
     "name": "#%%\n"
    }
   },
   "outputs": [],
   "source": [
    "# Konwersja łańcucha JSON z powrotem do rodzimej struktury danych Pythona\n",
    "json.loads(user_json)"
   ]
  },
  {
   "cell_type": "code",
   "execution_count": null,
   "metadata": {},
   "outputs": [],
   "source": [
    "import requests"
   ]
  },
  {
   "cell_type": "code",
   "execution_count": null,
   "metadata": {
    "pycharm": {
     "name": "#%%\n"
    }
   },
   "outputs": [],
   "source": [
    "response = requests.get(\"https://pypi.org/pypi/pandas/json\")\n",
    "response.status_code"
   ]
  },
  {
   "cell_type": "code",
   "execution_count": null,
   "metadata": {
    "pycharm": {
     "name": "#%%\n"
    }
   },
   "outputs": [],
   "source": [
    "# response.json()"
   ]
  },
  {
   "cell_type": "code",
   "execution_count": null,
   "metadata": {
    "pycharm": {
     "name": "#%%\n"
    }
   },
   "outputs": [],
   "source": [
    "releases = []\n",
    "for version, files in response.json()['releases'].items():\n",
    "    releases.append(f\"{version}: {files[0]['upload_time']}\")\n",
    "releases[:3]  # wyświetlenie pierwszych 3 elementów listy"
   ]
  },
  {
   "cell_type": "markdown",
   "metadata": {},
   "source": [
    "## Bazy danych"
   ]
  },
  {
   "cell_type": "code",
   "execution_count": null,
   "metadata": {},
   "outputs": [],
   "source": [
    "import urllib.parse"
   ]
  },
  {
   "cell_type": "code",
   "execution_count": null,
   "metadata": {
    "pycharm": {
     "name": "#%%\n"
    }
   },
   "outputs": [],
   "source": [
    "urllib.parse.quote_plus(\"hasło\")"
   ]
  },
  {
   "cell_type": "code",
   "execution_count": null,
   "metadata": {},
   "outputs": [],
   "source": [
    "# Zacznijmy od importowania\n",
    "import sqlite3\n",
    "from sqlalchemy import create_engine\n",
    "import pandas as pd"
   ]
  },
  {
   "cell_type": "code",
   "execution_count": null,
   "metadata": {
    "pycharm": {
     "name": "#%%\n"
    }
   },
   "outputs": [],
   "source": [
    "# Nasze zapytanie SQL: \"wybierz wszystkie kolumny z tabeli packages\"\n",
    "sql = \"SELECT * FROM packages\""
   ]
  },
  {
   "cell_type": "code",
   "execution_count": null,
   "metadata": {
    "pycharm": {
     "name": "#%%\n"
    }
   },
   "outputs": [],
   "source": [
    "# Opcja 1: sterownik bazy danych (sqlite3 jest częścią biblioteki standardowej)\n",
    "# Użycie połączenia jako menedżera kontekstu powoduje, że transakcja jest\n",
    "# automatycznie zatwierdzana lub wycofywana w przypadku wystąpienia błędu.\n",
    "with sqlite3.connect(\"packagetracker/packagetracker.db\") as con:\n",
    "    cursor = con.cursor()  # Do wykonywania zapytań SQL potrzebny jest kursor\n",
    "    result = cursor.execute(sql).fetchall()  # Zwrócenie wszystkich rekordów\n",
    "result"
   ]
  },
  {
   "cell_type": "code",
   "execution_count": null,
   "metadata": {
    "pycharm": {
     "name": "#%%\n"
    }
   },
   "outputs": [],
   "source": [
    "# Opcja 2: SQLAlchemy\n",
    "# \"create_engine\" oczekuje łańcucha połączenia z bazą danych.\n",
    "# Możemy tu wykonać zapytanie jako metodę obiektu połączenia.\n",
    "engine = create_engine(\"sqlite:///packagetracker/packagetracker.db\")\n",
    "with engine.connect() as con:\n",
    "    result = con.execute(sql).fetchall()\n",
    "result"
   ]
  },
  {
   "cell_type": "code",
   "execution_count": null,
   "metadata": {
    "pycharm": {
     "name": "#%%\n"
    }
   },
   "outputs": [],
   "source": [
    "# Opcja 3: pandas\n",
    "# Podanie nazwy tabeli do \"read_sql\" powoduje odczytanie całej tabeli.\n",
    "# pandas wymaga silnika SQLAlchemy, którego używamy ponownie\n",
    "# z poprzedniego przykładu.\n",
    "df = pd.read_sql(\"packages\", engine, index_col=\"package_id\")\n",
    "df"
   ]
  },
  {
   "cell_type": "code",
   "execution_count": null,
   "metadata": {
    "pycharm": {
     "name": "#%%\n"
    }
   },
   "outputs": [],
   "source": [
    "# \"read_sql\" akceptuje również zapytanie SQL\n",
    "pd.read_sql(sql, engine, index_col=\"package_id\")"
   ]
  },
  {
   "cell_type": "code",
   "execution_count": null,
   "metadata": {
    "pycharm": {
     "name": "#%%\n"
    }
   },
   "outputs": [],
   "source": [
    "# # Metoda DataFrame \"to_sql\" zapisuje obiekty DataFrame do tabel.\n",
    "# \"if_exists\" musi mieć wartość \"fail\", \"append\" lub \"replace\"\n",
    "# i określa, co się stanie, jeśli tabela już istnieje.\n",
    "df.to_sql(\"packages2\", con=engine, if_exists=\"append\")"
   ]
  },
  {
   "cell_type": "code",
   "execution_count": null,
   "metadata": {
    "pycharm": {
     "name": "#%%\n"
    }
   },
   "outputs": [],
   "source": [
    "# Poprzednie polecenie utworzyło nową tabelę \"packages2\"\n",
    "# i wstawiło do niej rekordy z DataFrame df, co możemy\n",
    "# sprawdzić, odczytując jej zawartość.\n",
    "pd.read_sql(\"packages2\", engine, index_col=\"package_id\")"
   ]
  },
  {
   "cell_type": "code",
   "execution_count": null,
   "metadata": {
    "pycharm": {
     "name": "#%%\n"
    }
   },
   "outputs": [],
   "source": [
    "# Pozbądźmy się tabeli, uruchamiając polecenie\n",
    "# \"drop table\" poprzez SQLAlchemy\n",
    "with engine.connect() as con:\n",
    "    con.execute(\"DROP TABLE packages2\")"
   ]
  },
  {
   "cell_type": "code",
   "execution_count": null,
   "metadata": {},
   "outputs": [],
   "source": [
    "# Zacznijmy od zaimportowania funkcji text SQLAlchemy\n",
    "from sqlalchemy.sql import text"
   ]
  },
  {
   "cell_type": "code",
   "execution_count": null,
   "metadata": {
    "pycharm": {
     "name": "#%%\n"
    }
   },
   "outputs": [],
   "source": [
    "# \":package_id\" jest zamiennikiem\n",
    "sql = \"\"\"\n",
    "SELECT v.uploaded_at, v.version_string\n",
    "FROM packages p\n",
    "INNER JOIN package_versions v ON p.package_id = v.package_id\n",
    "WHERE p.package_id = :package_id\n",
    "ORDER BY v.uploaded_at\n",
    "\"\"\""
   ]
  },
  {
   "cell_type": "code",
   "execution_count": null,
   "metadata": {
    "pycharm": {
     "name": "#%%\n"
    }
   },
   "outputs": [],
   "source": [
    "# Poprzez SQLAlchemy\n",
    "with engine.connect() as con:\n",
    "    result = con.execute(text(sql), package_id=1).fetchall()\n",
    "result[:3]  # Wypisanie pierwszych 3 rekordów"
   ]
  },
  {
   "cell_type": "code",
   "execution_count": null,
   "metadata": {
    "pycharm": {
     "name": "#%%\n"
    }
   },
   "outputs": [],
   "source": [
    "# Poprzez pandas\n",
    "pd.read_sql(text(sql), engine, parse_dates=[\"uploaded_at\"],\n",
    "            params={\"package_id\": 1},\n",
    "            index_col=[\"uploaded_at\"]).head(3)"
   ]
  },
  {
   "cell_type": "markdown",
   "metadata": {},
   "source": [
    "## Wyjątki"
   ]
  },
  {
   "cell_type": "code",
   "execution_count": null,
   "metadata": {
    "pycharm": {
     "name": "#%%\n"
    }
   },
   "outputs": [],
   "source": [
    "def print_reciprocal(number):\n",
    "    result = 1 / number\n",
    "    print(f\"Liczba odwrotna to: {result}\")"
   ]
  },
  {
   "cell_type": "code",
   "execution_count": null,
   "metadata": {
    "pycharm": {
     "name": "#%%\n"
    }
   },
   "outputs": [],
   "source": [
    "print_reciprocal(0)  # Spowoduje to wystąpienie błędu"
   ]
  },
  {
   "cell_type": "code",
   "execution_count": null,
   "metadata": {
    "pycharm": {
     "name": "#%%\n"
    }
   },
   "outputs": [],
   "source": [
    "def print_reciprocal(number):\n",
    "    try:\n",
    "        result = 1 / number\n",
    "    except Exception as e:\n",
    "        # \"as e\" udostępnia obiekt Exception jako zmienną \"e\"\n",
    "        # \"repr\" oznacza \"drukowalną reprezentację\" obiektu\n",
    "        # i zwraca łańcuch znaków z komunikatem o błędzie\n",
    "        print(f\"Wystąpił błąd: {repr(e)}\")\n",
    "        result = \"nd.\"\n",
    "    else:\n",
    "        print(\"Nie było błędu!\")\n",
    "    finally:\n",
    "        print(f\"Liczba odwrotna to: {result}\")"
   ]
  },
  {
   "cell_type": "code",
   "execution_count": null,
   "metadata": {
    "pycharm": {
     "name": "#%%\n"
    }
   },
   "outputs": [],
   "source": [
    "print_reciprocal(10)"
   ]
  },
  {
   "cell_type": "code",
   "execution_count": null,
   "metadata": {
    "pycharm": {
     "name": "#%%\n"
    }
   },
   "outputs": [],
   "source": [
    "print_reciprocal(\"a\")"
   ]
  },
  {
   "cell_type": "code",
   "execution_count": null,
   "metadata": {
    "pycharm": {
     "name": "#%%\n"
    }
   },
   "outputs": [],
   "source": [
    "print_reciprocal(0)"
   ]
  },
  {
   "cell_type": "code",
   "execution_count": null,
   "metadata": {
    "pycharm": {
     "name": "#%%\n"
    }
   },
   "outputs": [],
   "source": [
    "def print_reciprocal(number):\n",
    "    try:\n",
    "        result = 1 / number\n",
    "        print(f\"Liczba odwrotna to: {result}\")\n",
    "    except (TypeError, ZeroDivisionError):\n",
    "        print(\"Wpisz dowolną liczbę z wyjątkiem 0.\")"
   ]
  },
  {
   "cell_type": "code",
   "execution_count": null,
   "metadata": {
    "pycharm": {
     "name": "#%%\n"
    }
   },
   "outputs": [],
   "source": [
    "print_reciprocal(\"a\")"
   ]
  },
  {
   "cell_type": "code",
   "execution_count": null,
   "metadata": {
    "pycharm": {
     "name": "#%%\n"
    }
   },
   "outputs": [],
   "source": [
    "def print_reciprocal(number):\n",
    "    try:\n",
    "        result = 1 / number\n",
    "        print(f\"Liczba odwrotna to: {result}\")\n",
    "    except TypeError:\n",
    "        print(\"Wpisz liczbę.\")\n",
    "    except ZeroDivisionError:\n",
    "        print(\"Zero nie ma zdefiniowanej liczby odwrotnej.\")"
   ]
  },
  {
   "cell_type": "code",
   "execution_count": null,
   "metadata": {},
   "outputs": [],
   "source": [
    "print_reciprocal(\"a\")"
   ]
  },
  {
   "cell_type": "code",
   "execution_count": null,
   "metadata": {},
   "outputs": [],
   "source": [
    "print_reciprocal(0)"
   ]
  }
 ],
 "metadata": {
  "kernelspec": {
   "display_name": "Python 3",
   "language": "python",
   "name": "python3"
  },
  "language_info": {
   "codemirror_mode": {
    "name": "ipython",
    "version": 3
   },
   "file_extension": ".py",
   "mimetype": "text/x-python",
   "name": "python",
   "nbconvert_exporter": "python",
   "pygments_lexer": "ipython3",
   "version": "3.8.5"
  }
 },
 "nbformat": 4,
 "nbformat_minor": 4
}
