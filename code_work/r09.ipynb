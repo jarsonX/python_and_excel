{
 "cells": [
  {
   "cell_type": "markdown",
   "metadata": {},
   "source": [
    "# Automatyzacja Excela"
   ]
  },
  {
   "cell_type": "markdown",
   "metadata": {},
   "source": [
    "# Pierwsze kroki z xlwings"
   ]
  },
  {
   "cell_type": "markdown",
   "metadata": {},
   "source": [
    "## Excel jako przeglądarka danych"
   ]
  },
  {
   "cell_type": "code",
   "execution_count": 1,
   "metadata": {},
   "outputs": [],
   "source": [
    "# Najpierw importujemy pakiety, których będziemy używać w tym rozdziale\n",
    "import datetime as dt\n",
    "import xlwings as xw\n",
    "import pandas as pd\n",
    "import numpy as np"
   ]
  },
  {
   "cell_type": "code",
   "execution_count": 10,
   "metadata": {},
   "outputs": [
    {
     "data": {
      "text/html": [
       "<div>\n",
       "<style scoped>\n",
       "    .dataframe tbody tr th:only-of-type {\n",
       "        vertical-align: middle;\n",
       "    }\n",
       "\n",
       "    .dataframe tbody tr th {\n",
       "        vertical-align: top;\n",
       "    }\n",
       "\n",
       "    .dataframe thead th {\n",
       "        text-align: right;\n",
       "    }\n",
       "</style>\n",
       "<table border=\"1\" class=\"dataframe\">\n",
       "  <thead>\n",
       "    <tr style=\"text-align: right;\">\n",
       "      <th></th>\n",
       "      <th>Próba 1</th>\n",
       "      <th>Próba 2</th>\n",
       "      <th>Próba 3</th>\n",
       "      <th>Próba 4</th>\n",
       "      <th>Próba 5</th>\n",
       "    </tr>\n",
       "  </thead>\n",
       "  <tbody>\n",
       "    <tr>\n",
       "      <th>0</th>\n",
       "      <td>-0.688616</td>\n",
       "      <td>0.032748</td>\n",
       "      <td>0.891236</td>\n",
       "      <td>-0.544217</td>\n",
       "      <td>0.378108</td>\n",
       "    </tr>\n",
       "    <tr>\n",
       "      <th>1</th>\n",
       "      <td>1.100100</td>\n",
       "      <td>-0.508320</td>\n",
       "      <td>0.390952</td>\n",
       "      <td>0.363083</td>\n",
       "      <td>-1.061099</td>\n",
       "    </tr>\n",
       "    <tr>\n",
       "      <th>2</th>\n",
       "      <td>0.244024</td>\n",
       "      <td>0.333766</td>\n",
       "      <td>0.802253</td>\n",
       "      <td>0.184679</td>\n",
       "      <td>0.628909</td>\n",
       "    </tr>\n",
       "    <tr>\n",
       "      <th>3</th>\n",
       "      <td>-0.681603</td>\n",
       "      <td>0.829175</td>\n",
       "      <td>-2.420353</td>\n",
       "      <td>-0.301932</td>\n",
       "      <td>-1.212479</td>\n",
       "    </tr>\n",
       "    <tr>\n",
       "      <th>4</th>\n",
       "      <td>0.438430</td>\n",
       "      <td>0.279795</td>\n",
       "      <td>0.160456</td>\n",
       "      <td>-0.366814</td>\n",
       "      <td>-0.390384</td>\n",
       "    </tr>\n",
       "    <tr>\n",
       "      <th>...</th>\n",
       "      <td>...</td>\n",
       "      <td>...</td>\n",
       "      <td>...</td>\n",
       "      <td>...</td>\n",
       "      <td>...</td>\n",
       "    </tr>\n",
       "    <tr>\n",
       "      <th>95</th>\n",
       "      <td>-0.282497</td>\n",
       "      <td>-0.565755</td>\n",
       "      <td>0.519534</td>\n",
       "      <td>0.075834</td>\n",
       "      <td>0.038333</td>\n",
       "    </tr>\n",
       "    <tr>\n",
       "      <th>96</th>\n",
       "      <td>-0.126254</td>\n",
       "      <td>0.162723</td>\n",
       "      <td>-1.243883</td>\n",
       "      <td>-1.102140</td>\n",
       "      <td>1.170508</td>\n",
       "    </tr>\n",
       "    <tr>\n",
       "      <th>97</th>\n",
       "      <td>-0.635457</td>\n",
       "      <td>-0.883338</td>\n",
       "      <td>-0.332642</td>\n",
       "      <td>-1.460255</td>\n",
       "      <td>-0.307262</td>\n",
       "    </tr>\n",
       "    <tr>\n",
       "      <th>98</th>\n",
       "      <td>-0.617771</td>\n",
       "      <td>0.291205</td>\n",
       "      <td>0.033260</td>\n",
       "      <td>0.275054</td>\n",
       "      <td>0.583403</td>\n",
       "    </tr>\n",
       "    <tr>\n",
       "      <th>99</th>\n",
       "      <td>1.285262</td>\n",
       "      <td>1.613426</td>\n",
       "      <td>-1.096012</td>\n",
       "      <td>1.444209</td>\n",
       "      <td>0.315302</td>\n",
       "    </tr>\n",
       "  </tbody>\n",
       "</table>\n",
       "<p>100 rows × 5 columns</p>\n",
       "</div>"
      ],
      "text/plain": [
       "     Próba 1   Próba 2   Próba 3   Próba 4   Próba 5\n",
       "0  -0.688616  0.032748  0.891236 -0.544217  0.378108\n",
       "1   1.100100 -0.508320  0.390952  0.363083 -1.061099\n",
       "2   0.244024  0.333766  0.802253  0.184679  0.628909\n",
       "3  -0.681603  0.829175 -2.420353 -0.301932 -1.212479\n",
       "4   0.438430  0.279795  0.160456 -0.366814 -0.390384\n",
       "..       ...       ...       ...       ...       ...\n",
       "95 -0.282497 -0.565755  0.519534  0.075834  0.038333\n",
       "96 -0.126254  0.162723 -1.243883 -1.102140  1.170508\n",
       "97 -0.635457 -0.883338 -0.332642 -1.460255 -0.307262\n",
       "98 -0.617771  0.291205  0.033260  0.275054  0.583403\n",
       "99  1.285262  1.613426 -1.096012  1.444209  0.315302\n",
       "\n",
       "[100 rows x 5 columns]"
      ]
     },
     "execution_count": 10,
     "metadata": {},
     "output_type": "execute_result"
    }
   ],
   "source": [
    "# Tworzymy DataFrame na podstawie liczb pseudolosowych, z taką\n",
    "# liczbą wierszy, że widoczne będą tylko początkowe i końcowe\n",
    "df = pd.DataFrame(data=np.random.randn(100, 5),\n",
    "                  columns=[f\"Próba {i}\" for i in range(1, 6)])\n",
    "df"
   ]
  },
  {
   "cell_type": "markdown",
   "metadata": {},
   "source": [
    "## Model obiektowy Excela"
   ]
  },
  {
   "cell_type": "code",
   "execution_count": null,
   "metadata": {},
   "outputs": [],
   "source": [
    "book = xw.Book()\n",
    "sheet1 = book.sheets[0]\n",
    "sheet1 = book.sheets[\"Sheet1\"]"
   ]
  },
  {
   "cell_type": "code",
   "execution_count": 21,
   "metadata": {},
   "outputs": [
    {
     "data": {
      "text/plain": [
       "'Book1'"
      ]
     },
     "execution_count": 21,
     "metadata": {},
     "output_type": "execute_result"
    }
   ],
   "source": [
    "# Utworzenie nowego pustego skoroszytu i wypisanie jego nazwy.\n",
    "book = xw.Book()\n",
    "book.name"
   ]
  },
  {
   "cell_type": "code",
   "execution_count": 22,
   "metadata": {},
   "outputs": [
    {
     "data": {
      "text/plain": [
       "Sheets([<Sheet [Book1]Sheet1>])"
      ]
     },
     "execution_count": 22,
     "metadata": {},
     "output_type": "execute_result"
    }
   ],
   "source": [
    "# Uzyskanie dostępu do kolekcji arkuszy\n",
    "book.sheets"
   ]
  },
  {
   "cell_type": "code",
   "execution_count": 23,
   "metadata": {},
   "outputs": [],
   "source": [
    "# Uzyskanie obiektu arkusza poprzez indeks lub nazwę. Jeśli\n",
    "# Twój arkusz ma inną nazwę, wpisz ją zamiast \"Sheet1\".\n",
    "sheet1 = book.sheets[0]\n",
    "sheet1 = book.sheets[\"Sheet1\"]"
   ]
  },
  {
   "cell_type": "code",
   "execution_count": 24,
   "metadata": {},
   "outputs": [
    {
     "data": {
      "text/plain": [
       "<Range [Book1]Sheet1!$A$1>"
      ]
     },
     "execution_count": 24,
     "metadata": {},
     "output_type": "execute_result"
    }
   ],
   "source": [
    "sheet1.range(\"A1\")"
   ]
  },
  {
   "cell_type": "code",
   "execution_count": 42,
   "metadata": {},
   "outputs": [],
   "source": [
    "# Najczęstsze zadania: zapisywanie wartości ...\n",
    "sheet1.range(\"A1\").value = [[1, 2],\n",
    "                            [3, 4]]\n",
    "sheet1.range(\"A4\").value = \"Witaj!\""
   ]
  },
  {
   "cell_type": "code",
   "execution_count": 26,
   "metadata": {},
   "outputs": [
    {
     "data": {
      "text/plain": [
       "[[1.0, 2.0], [3.0, 4.0]]"
      ]
     },
     "execution_count": 26,
     "metadata": {},
     "output_type": "execute_result"
    }
   ],
   "source": [
    "# ... i odczytywanie wartości\n",
    "sheet1.range(\"A1:B2\").value"
   ]
  },
  {
   "cell_type": "code",
   "execution_count": 27,
   "metadata": {},
   "outputs": [
    {
     "data": {
      "text/plain": [
       "'Witaj!'"
      ]
     },
     "execution_count": 27,
     "metadata": {},
     "output_type": "execute_result"
    }
   ],
   "source": [
    "sheet1.range(\"A4\").value"
   ]
  },
  {
   "cell_type": "code",
   "execution_count": 28,
   "metadata": {},
   "outputs": [
    {
     "data": {
      "text/plain": [
       "<Range [Book1]Sheet1!$A$1>"
      ]
     },
     "execution_count": 28,
     "metadata": {},
     "output_type": "execute_result"
    }
   ],
   "source": [
    "# Indeksowanie\n",
    "sheet1.range(\"A1:B2\")[0, 0]"
   ]
  },
  {
   "cell_type": "code",
   "execution_count": 34,
   "metadata": {},
   "outputs": [
    {
     "data": {
      "text/plain": [
       "<Range [Book1]Sheet1!$B$1:$B$2>"
      ]
     },
     "execution_count": 34,
     "metadata": {},
     "output_type": "execute_result"
    }
   ],
   "source": [
    "# Wycinanie\n",
    "sheet1.range(\"A1:B2\")[:, 1]"
   ]
  },
  {
   "cell_type": "code",
   "execution_count": 32,
   "metadata": {},
   "outputs": [
    {
     "data": {
      "text/plain": [
       "<Range [Book1]Sheet1!$A$1>"
      ]
     },
     "execution_count": 32,
     "metadata": {},
     "output_type": "execute_result"
    }
   ],
   "source": [
    "# Pojedyncza komórka: notacja A1\n",
    "sheet1[\"A1\"]"
   ]
  },
  {
   "cell_type": "code",
   "execution_count": 35,
   "metadata": {},
   "outputs": [
    {
     "data": {
      "text/plain": [
       "<Range [Book1]Sheet1!$A$1:$B$2>"
      ]
     },
     "execution_count": 35,
     "metadata": {},
     "output_type": "execute_result"
    }
   ],
   "source": [
    "# Wiele komórek: notacja A1\n",
    "sheet1[\"A1:B2\"]"
   ]
  },
  {
   "cell_type": "code",
   "execution_count": 36,
   "metadata": {},
   "outputs": [
    {
     "data": {
      "text/plain": [
       "<Range [Book1]Sheet1!$A$1>"
      ]
     },
     "execution_count": 36,
     "metadata": {},
     "output_type": "execute_result"
    }
   ],
   "source": [
    "# Pojedyncza komórka: indeksowanie\n",
    "sheet1[0, 0]"
   ]
  },
  {
   "cell_type": "code",
   "execution_count": 37,
   "metadata": {},
   "outputs": [
    {
     "data": {
      "text/plain": [
       "<Range [Book1]Sheet1!$A$1:$B$2>"
      ]
     },
     "execution_count": 37,
     "metadata": {},
     "output_type": "execute_result"
    }
   ],
   "source": [
    "# Wiele komórek: wycinanie\n",
    "sheet1[:2, :2]"
   ]
  },
  {
   "cell_type": "code",
   "execution_count": 38,
   "metadata": {},
   "outputs": [
    {
     "data": {
      "text/plain": [
       "[[1.0, 2.0], [3.0, 4.0]]"
      ]
     },
     "execution_count": 38,
     "metadata": {},
     "output_type": "execute_result"
    }
   ],
   "source": [
    "book.sheets[0].range(\"A1:B2\").value"
   ]
  },
  {
   "cell_type": "code",
   "execution_count": null,
   "metadata": {},
   "outputs": [],
   "source": [
    "# D10 poprzez indeksowanie arkusza\n",
    "sheet1[9, 3]"
   ]
  },
  {
   "cell_type": "code",
   "execution_count": 46,
   "metadata": {},
   "outputs": [
    {
     "data": {
      "text/plain": [
       "<Range [Book1]Sheet1!$D$10>"
      ]
     },
     "execution_count": 46,
     "metadata": {},
     "output_type": "execute_result"
    }
   ],
   "source": [
    "# D10 poprzez obiekt range\n",
    "sheet1.range((10, 4))"
   ]
  },
  {
   "cell_type": "code",
   "execution_count": 47,
   "metadata": {},
   "outputs": [
    {
     "data": {
      "text/plain": [
       "<Range [Book1]Sheet1!$D$10:$F$11>"
      ]
     },
     "execution_count": 47,
     "metadata": {},
     "output_type": "execute_result"
    }
   ],
   "source": [
    "# D10:F11 poprzez wycinanie arkusza\n",
    "sheet1[9:11, 3:6]"
   ]
  },
  {
   "cell_type": "code",
   "execution_count": 48,
   "metadata": {},
   "outputs": [
    {
     "data": {
      "text/plain": [
       "<Range [Book1]Sheet1!$D$10:$F$11>"
      ]
     },
     "execution_count": 48,
     "metadata": {},
     "output_type": "execute_result"
    }
   ],
   "source": [
    "# D10:F11 poprzez obiekt range\n",
    "sheet1.range((10, 4), (11, 6))"
   ]
  },
  {
   "cell_type": "markdown",
   "metadata": {},
   "source": [
    "### Instancje"
   ]
  },
  {
   "cell_type": "code",
   "execution_count": 50,
   "metadata": {},
   "outputs": [],
   "source": [
    "# Pobranie jednego obiektu app z otwartego skoroszytu\n",
    "# i utworzenie dodatkowej niewidocznej instancji app\n",
    "visible_app = sheet1.book.app\n",
    "invisible_app = xw.App(visible=False)"
   ]
  },
  {
   "cell_type": "code",
   "execution_count": 51,
   "metadata": {},
   "outputs": [
    {
     "data": {
      "text/plain": [
       "['Book1']"
      ]
     },
     "execution_count": 51,
     "metadata": {},
     "output_type": "execute_result"
    }
   ],
   "source": [
    "# Wypisanie nazw skoroszytów, które są otwarte w każdej instancji,\n",
    "# poprzez wykorzystanie listy składanej\n",
    "[book.name for book in visible_app.books]"
   ]
  },
  {
   "cell_type": "code",
   "execution_count": 52,
   "metadata": {},
   "outputs": [
    {
     "data": {
      "text/plain": [
       "['Book2']"
      ]
     },
     "execution_count": 52,
     "metadata": {},
     "output_type": "execute_result"
    }
   ],
   "source": [
    "[book.name for book in invisible_app.books]"
   ]
  },
  {
   "cell_type": "code",
   "execution_count": 49,
   "metadata": {},
   "outputs": [
    {
     "data": {
      "text/plain": [
       "<App [excel] 5284>"
      ]
     },
     "execution_count": 49,
     "metadata": {},
     "output_type": "execute_result"
    }
   ],
   "source": [
    "sheet1[\"A1\"].sheet.book.app"
   ]
  },
  {
   "cell_type": "code",
   "execution_count": 53,
   "metadata": {},
   "outputs": [
    {
     "data": {
      "text/plain": [
       "[14232, 5284]"
      ]
     },
     "execution_count": 53,
     "metadata": {},
     "output_type": "execute_result"
    }
   ],
   "source": [
    "# Klucz aplikacji, reprezentujący identyfikator procesu (PID)\n",
    "xw.apps.keys()"
   ]
  },
  {
   "cell_type": "code",
   "execution_count": 54,
   "metadata": {},
   "outputs": [
    {
     "data": {
      "text/plain": [
       "14232"
      ]
     },
     "execution_count": 54,
     "metadata": {},
     "output_type": "execute_result"
    }
   ],
   "source": [
    "# Można uzyskać do niego dostęp również poprzez atrybut pid\n",
    "xw.apps.active.pid"
   ]
  },
  {
   "cell_type": "code",
   "execution_count": 57,
   "metadata": {},
   "outputs": [],
   "source": [
    "# Praca ze skoroszytem w niewidocznej instancji Excela\n",
    "invisible_book = invisible_app.books[0]\n",
    "invisible_book.sheets[0][\"A1\"].value = \"Utworzone przez niewidoczną aplikację.\""
   ]
  },
  {
   "cell_type": "code",
   "execution_count": 58,
   "metadata": {},
   "outputs": [],
   "source": [
    "# Zapisanie skoroszytu Excela w katalogu xl\n",
    "invisible_book.save(\"xl/invisible.xlsx\")"
   ]
  },
  {
   "cell_type": "code",
   "execution_count": 59,
   "metadata": {},
   "outputs": [],
   "source": [
    "# Zamknięcie niewidocznej instancji Excela\n",
    "invisible_app.quit()"
   ]
  },
  {
   "cell_type": "code",
   "execution_count": null,
   "metadata": {},
   "outputs": [],
   "source": [
    "mój_app = x"
   ]
  },
  {
   "cell_type": "code",
   "execution_count": null,
   "metadata": {},
   "outputs": [],
   "source": [
    "mój_app.books.add()\n",
    "\n",
    "mój_app.books.open(\"Zeszyt.xlsx\")\n",
    "\n",
    "mój_app.books.open(r\"C:\\ścieżka\\Zeszyt.xlsx\")"
   ]
  },
  {
   "cell_type": "markdown",
   "metadata": {},
   "source": [
    "## Uruchamianie kodu VBA"
   ]
  },
  {
   "cell_type": "code",
   "execution_count": 3,
   "metadata": {},
   "outputs": [],
   "source": [
    "vba_book = xw.Book(\"xl/vba.xlsm\")"
   ]
  },
  {
   "cell_type": "code",
   "execution_count": 6,
   "metadata": {},
   "outputs": [],
   "source": [
    "sheet_vba = vba_book.sheets[0]"
   ]
  },
  {
   "cell_type": "code",
   "execution_count": 4,
   "metadata": {},
   "outputs": [
    {
     "data": {
      "text/plain": [
       "9.0"
      ]
     },
     "execution_count": 4,
     "metadata": {},
     "output_type": "execute_result"
    }
   ],
   "source": [
    "# Utworzenie instancji obiektu macro z funkcją VBA\n",
    "mysum = vba_book.macro(\"Module1.MySum\")\n",
    "# Wywołanie funkcji VBA\n",
    "mysum(5, 4)"
   ]
  },
  {
   "cell_type": "code",
   "execution_count": 8,
   "metadata": {},
   "outputs": [],
   "source": [
    "sheet_vba[\"A1\"].value = mysum(2,100)"
   ]
  },
  {
   "cell_type": "code",
   "execution_count": 9,
   "metadata": {},
   "outputs": [],
   "source": [
    "# Tak samo działa to z procedurą Sub VBA\n",
    "show_msgbox = vba_book.macro(\"Module1.ShowMsgBox\")\n",
    "show_msgbox(\"Witaj, xlwings!\")"
   ]
  },
  {
   "cell_type": "code",
   "execution_count": 10,
   "metadata": {},
   "outputs": [],
   "source": [
    "# Zamknięcie skoroszytu (upewnij się, że najpierw zamknąłeś okno MessageBox)\n",
    "vba_book.close()"
   ]
  },
  {
   "cell_type": "markdown",
   "metadata": {},
   "source": [
    "# Konwertery, opcje i kolekcje"
   ]
  },
  {
   "cell_type": "markdown",
   "metadata": {},
   "source": [
    "## Praca z obiektami DataFrame"
   ]
  },
  {
   "cell_type": "code",
   "execution_count": 11,
   "metadata": {},
   "outputs": [
    {
     "data": {
      "text/html": [
       "<div>\n",
       "<style scoped>\n",
       "    .dataframe tbody tr th:only-of-type {\n",
       "        vertical-align: middle;\n",
       "    }\n",
       "\n",
       "    .dataframe tbody tr th {\n",
       "        vertical-align: top;\n",
       "    }\n",
       "\n",
       "    .dataframe thead th {\n",
       "        text-align: right;\n",
       "    }\n",
       "</style>\n",
       "<table border=\"1\" class=\"dataframe\">\n",
       "  <thead>\n",
       "    <tr style=\"text-align: right;\">\n",
       "      <th></th>\n",
       "      <th>imię</th>\n",
       "      <th>wiek</th>\n",
       "      <th>kraj</th>\n",
       "      <th>ocena</th>\n",
       "      <th>kontynent</th>\n",
       "    </tr>\n",
       "    <tr>\n",
       "      <th>numer</th>\n",
       "      <th></th>\n",
       "      <th></th>\n",
       "      <th></th>\n",
       "      <th></th>\n",
       "      <th></th>\n",
       "    </tr>\n",
       "  </thead>\n",
       "  <tbody>\n",
       "    <tr>\n",
       "      <th>1001</th>\n",
       "      <td>Mark</td>\n",
       "      <td>55</td>\n",
       "      <td>Włochy</td>\n",
       "      <td>4.5</td>\n",
       "      <td>Europa</td>\n",
       "    </tr>\n",
       "    <tr>\n",
       "      <th>1000</th>\n",
       "      <td>John</td>\n",
       "      <td>33</td>\n",
       "      <td>USA</td>\n",
       "      <td>6.7</td>\n",
       "      <td>Ameryka</td>\n",
       "    </tr>\n",
       "  </tbody>\n",
       "</table>\n",
       "</div>"
      ],
      "text/plain": [
       "       imię  wiek    kraj  ocena kontynent\n",
       "numer                                     \n",
       "1001   Mark    55  Włochy    4.5    Europa\n",
       "1000   John    33     USA    6.7   Ameryka"
      ]
     },
     "execution_count": 11,
     "metadata": {},
     "output_type": "execute_result"
    }
   ],
   "source": [
    "data=[[\"Mark\", 55, \"Włochy\", 4.5, \"Europa\"],\n",
    "      [\"John\", 33, \"USA\", 6.7, \"Ameryka\"]]\n",
    "df = pd.DataFrame(data=data,\n",
    "                  columns=[\"imię\", \"wiek\", \"kraj\",\n",
    "                           \"ocena\", \"kontynent\"],\n",
    "                  index=[1001, 1000])\n",
    "df.index.name = \"numer\"\n",
    "df"
   ]
  },
  {
   "cell_type": "code",
   "execution_count": 13,
   "metadata": {},
   "outputs": [],
   "source": [
    "book = xw.Book()\n",
    "sheet1 = book.sheets[0]\n",
    "sheet1 = book.sheets[\"Sheet1\"]"
   ]
  },
  {
   "cell_type": "code",
   "execution_count": 14,
   "metadata": {},
   "outputs": [],
   "source": [
    "sheet1[\"A6\"].value = df"
   ]
  },
  {
   "cell_type": "code",
   "execution_count": 15,
   "metadata": {},
   "outputs": [],
   "source": [
    "sheet1[\"B10\"].options(header=False, index=False).value = df"
   ]
  },
  {
   "cell_type": "code",
   "execution_count": 17,
   "metadata": {},
   "outputs": [
    {
     "data": {
      "text/html": [
       "<div>\n",
       "<style scoped>\n",
       "    .dataframe tbody tr th:only-of-type {\n",
       "        vertical-align: middle;\n",
       "    }\n",
       "\n",
       "    .dataframe tbody tr th {\n",
       "        vertical-align: top;\n",
       "    }\n",
       "\n",
       "    .dataframe thead th {\n",
       "        text-align: right;\n",
       "    }\n",
       "</style>\n",
       "<table border=\"1\" class=\"dataframe\">\n",
       "  <thead>\n",
       "    <tr style=\"text-align: right;\">\n",
       "      <th></th>\n",
       "      <th>imię</th>\n",
       "      <th>wiek</th>\n",
       "      <th>kraj</th>\n",
       "      <th>ocena</th>\n",
       "      <th>kontynent</th>\n",
       "    </tr>\n",
       "    <tr>\n",
       "      <th>numer</th>\n",
       "      <th></th>\n",
       "      <th></th>\n",
       "      <th></th>\n",
       "      <th></th>\n",
       "      <th></th>\n",
       "    </tr>\n",
       "  </thead>\n",
       "  <tbody>\n",
       "    <tr>\n",
       "      <th>2222.0</th>\n",
       "      <td>Arnold</td>\n",
       "      <td>30.0</td>\n",
       "      <td>Polska</td>\n",
       "      <td>10.0</td>\n",
       "      <td>Europa</td>\n",
       "    </tr>\n",
       "    <tr>\n",
       "      <th>3333.0</th>\n",
       "      <td>Michael</td>\n",
       "      <td>40.0</td>\n",
       "      <td>USA</td>\n",
       "      <td>5.0</td>\n",
       "      <td>Ameryka</td>\n",
       "    </tr>\n",
       "  </tbody>\n",
       "</table>\n",
       "</div>"
      ],
      "text/plain": [
       "           imię  wiek    kraj  ocena kontynent\n",
       "numer                                         \n",
       "2222.0   Arnold  30.0  Polska   10.0    Europa\n",
       "3333.0  Michael  40.0     USA    5.0   Ameryka"
      ]
     },
     "execution_count": 17,
     "metadata": {},
     "output_type": "execute_result"
    }
   ],
   "source": [
    "df2 = sheet1[\"A6\"].expand().options(pd.DataFrame).value\n",
    "df2"
   ]
  },
  {
   "cell_type": "code",
   "execution_count": 18,
   "metadata": {},
   "outputs": [
    {
     "data": {
      "text/html": [
       "<div>\n",
       "<style scoped>\n",
       "    .dataframe tbody tr th:only-of-type {\n",
       "        vertical-align: middle;\n",
       "    }\n",
       "\n",
       "    .dataframe tbody tr th {\n",
       "        vertical-align: top;\n",
       "    }\n",
       "\n",
       "    .dataframe thead th {\n",
       "        text-align: right;\n",
       "    }\n",
       "</style>\n",
       "<table border=\"1\" class=\"dataframe\">\n",
       "  <thead>\n",
       "    <tr style=\"text-align: right;\">\n",
       "      <th></th>\n",
       "      <th>imię</th>\n",
       "      <th>wiek</th>\n",
       "      <th>kraj</th>\n",
       "      <th>ocena</th>\n",
       "      <th>kontynent</th>\n",
       "    </tr>\n",
       "    <tr>\n",
       "      <th>numer</th>\n",
       "      <th></th>\n",
       "      <th></th>\n",
       "      <th></th>\n",
       "      <th></th>\n",
       "      <th></th>\n",
       "    </tr>\n",
       "  </thead>\n",
       "  <tbody>\n",
       "    <tr>\n",
       "      <th>2222</th>\n",
       "      <td>Arnold</td>\n",
       "      <td>30.0</td>\n",
       "      <td>Polska</td>\n",
       "      <td>10.0</td>\n",
       "      <td>Europa</td>\n",
       "    </tr>\n",
       "    <tr>\n",
       "      <th>3333</th>\n",
       "      <td>Michael</td>\n",
       "      <td>40.0</td>\n",
       "      <td>USA</td>\n",
       "      <td>5.0</td>\n",
       "      <td>Ameryka</td>\n",
       "    </tr>\n",
       "  </tbody>\n",
       "</table>\n",
       "</div>"
      ],
      "text/plain": [
       "          imię  wiek    kraj  ocena kontynent\n",
       "numer                                        \n",
       "2222    Arnold  30.0  Polska   10.0    Europa\n",
       "3333   Michael  40.0     USA    5.0   Ameryka"
      ]
     },
     "execution_count": 18,
     "metadata": {},
     "output_type": "execute_result"
    }
   ],
   "source": [
    "# Jeśli chcesz, aby indeks zawierał liczby całkowite,\n",
    "# możesz zmienić jego typ danych\n",
    "df2.index = df2.index.astype(int)\n",
    "df2"
   ]
  },
  {
   "cell_type": "code",
   "execution_count": 19,
   "metadata": {},
   "outputs": [
    {
     "data": {
      "text/html": [
       "<div>\n",
       "<style scoped>\n",
       "    .dataframe tbody tr th:only-of-type {\n",
       "        vertical-align: middle;\n",
       "    }\n",
       "\n",
       "    .dataframe tbody tr th {\n",
       "        vertical-align: top;\n",
       "    }\n",
       "\n",
       "    .dataframe thead th {\n",
       "        text-align: right;\n",
       "    }\n",
       "</style>\n",
       "<table border=\"1\" class=\"dataframe\">\n",
       "  <thead>\n",
       "    <tr style=\"text-align: right;\">\n",
       "      <th></th>\n",
       "      <th>numer</th>\n",
       "      <th>imię</th>\n",
       "      <th>wiek</th>\n",
       "      <th>kraj</th>\n",
       "      <th>ocena</th>\n",
       "      <th>kontynent</th>\n",
       "    </tr>\n",
       "  </thead>\n",
       "  <tbody>\n",
       "    <tr>\n",
       "      <th>0</th>\n",
       "      <td>1001.0</td>\n",
       "      <td>Mark</td>\n",
       "      <td>55.0</td>\n",
       "      <td>Włochy</td>\n",
       "      <td>4.5</td>\n",
       "      <td>Europa</td>\n",
       "    </tr>\n",
       "    <tr>\n",
       "      <th>1</th>\n",
       "      <td>1000.0</td>\n",
       "      <td>John</td>\n",
       "      <td>33.0</td>\n",
       "      <td>USA</td>\n",
       "      <td>6.7</td>\n",
       "      <td>Ameryka</td>\n",
       "    </tr>\n",
       "  </tbody>\n",
       "</table>\n",
       "</div>"
      ],
      "text/plain": [
       "    numer  imię  wiek    kraj  ocena kontynent\n",
       "0  1001.0  Mark  55.0  Włochy    4.5    Europa\n",
       "1  1000.0  John  33.0     USA    6.7   Ameryka"
      ]
     },
     "execution_count": 19,
     "metadata": {},
     "output_type": "execute_result"
    }
   ],
   "source": [
    "# Ustawienie index=False spowoduje, że wszystkie wartości z Excela zostaną\n",
    "# umieszczone w części danych DataFrame i zostanie użyty domyślny indeks\n",
    "sheet1[\"A6\"].expand().options(pd.DataFrame, index=False).value"
   ]
  },
  {
   "cell_type": "markdown",
   "metadata": {},
   "source": [
    "## Konwertery i opcje"
   ]
  },
  {
   "cell_type": "code",
   "execution_count": 21,
   "metadata": {},
   "outputs": [
    {
     "data": {
      "text/plain": [
       "['a', 'b']"
      ]
     },
     "execution_count": 21,
     "metadata": {},
     "output_type": "execute_result"
    }
   ],
   "source": [
    "# Zakres poziomy (jednowymiarowy)\n",
    "sheet1[\"A1:B1\"].value"
   ]
  },
  {
   "cell_type": "code",
   "execution_count": 22,
   "metadata": {},
   "outputs": [
    {
     "data": {
      "text/plain": [
       "['a', 'c']"
      ]
     },
     "execution_count": 22,
     "metadata": {},
     "output_type": "execute_result"
    }
   ],
   "source": [
    "# Zakres pionowy (jednowymiarowy)\n",
    "sheet1[\"A1:A2\"].value"
   ]
  },
  {
   "cell_type": "code",
   "execution_count": 23,
   "metadata": {},
   "outputs": [
    {
     "data": {
      "text/plain": [
       "[['a', 'b']]"
      ]
     },
     "execution_count": 23,
     "metadata": {},
     "output_type": "execute_result"
    }
   ],
   "source": [
    "# Zakres poziomy (dwuwymiarowy)\n",
    "sheet1[\"A1:B1\"].options(ndim=2).value"
   ]
  },
  {
   "cell_type": "code",
   "execution_count": 24,
   "metadata": {},
   "outputs": [
    {
     "data": {
      "text/plain": [
       "[['a'], ['c']]"
      ]
     },
     "execution_count": 24,
     "metadata": {},
     "output_type": "execute_result"
    }
   ],
   "source": [
    "# Zakres pionowy (dwuwymiarowy)\n",
    "sheet1[\"A1:A2\"].options(ndim=2).value"
   ]
  },
  {
   "cell_type": "code",
   "execution_count": 25,
   "metadata": {},
   "outputs": [
    {
     "data": {
      "text/plain": [
       "array(['a', 'c'], dtype='<U1')"
      ]
     },
     "execution_count": 25,
     "metadata": {},
     "output_type": "execute_result"
    }
   ],
   "source": [
    "# Taki sam efekt da użycie konwertera do tablic NumPy:\n",
    "# pionowy zakres prowadzi do tablicy jednowymiarowej\n",
    "sheet1[\"A1:A2\"].options(np.array).value"
   ]
  },
  {
   "cell_type": "code",
   "execution_count": 26,
   "metadata": {},
   "outputs": [
    {
     "data": {
      "text/plain": [
       "array([['a'],\n",
       "       ['c']], dtype='<U1')"
      ]
     },
     "execution_count": 26,
     "metadata": {},
     "output_type": "execute_result"
    }
   ],
   "source": [
    "# Zachowanie orientacji kolumn\n",
    "sheet1[\"A1:A2\"].options(np.array, ndim=2).value"
   ]
  },
  {
   "cell_type": "code",
   "execution_count": 28,
   "metadata": {},
   "outputs": [],
   "source": [
    "# Jeśli musisz wypisać listę w pionie,\n",
    "# przydatna będzie opcja \"transpose\".\n",
    "sheet1[\"D1\"].options(transpose=True).value = [100, 200]"
   ]
  },
  {
   "cell_type": "code",
   "execution_count": 29,
   "metadata": {},
   "outputs": [],
   "source": [
    "# Wypisz jakieś przykładowe dane\n",
    "sheet1[\"A13\"].value = [dt.datetime(2020, 1, 1), None, 1.0]"
   ]
  },
  {
   "cell_type": "code",
   "execution_count": 30,
   "metadata": {},
   "outputs": [
    {
     "data": {
      "text/plain": [
       "[datetime.datetime(2020, 1, 1, 0, 0), None, 1.0]"
      ]
     },
     "execution_count": 30,
     "metadata": {},
     "output_type": "execute_result"
    }
   ],
   "source": [
    "# Wczytaj je z powrotem, używając domyślnych opcji\n",
    "sheet1[\"A13:C13\"].value"
   ]
  },
  {
   "cell_type": "code",
   "execution_count": 31,
   "metadata": {},
   "outputs": [
    {
     "data": {
      "text/plain": [
       "[datetime.date(2020, 1, 1), 'nd.', 1]"
      ]
     },
     "execution_count": 31,
     "metadata": {},
     "output_type": "execute_result"
    }
   ],
   "source": [
    "# Wczytaj je ponownie, używając opcji innych niż domyślne\n",
    "sheet1[\"A13:C13\"].options(empty=\"nd.\",\n",
    "                          dates=dt.date,\n",
    "                          numbers=int).value"
   ]
  },
  {
   "cell_type": "markdown",
   "metadata": {},
   "source": [
    "## Wykresy, obrazy i zdefiniowane nazwy"
   ]
  },
  {
   "cell_type": "code",
   "execution_count": 35,
   "metadata": {},
   "outputs": [],
   "source": [
    "sheet1[\"A15\"].value = [[None, \"Północ\", \"Południe\"],\n",
    "                       [\"Ubiegły rok\", 2, 5],\n",
    "                       [\"Bieżący rok\", 3, 6]]"
   ]
  },
  {
   "cell_type": "code",
   "execution_count": 36,
   "metadata": {},
   "outputs": [],
   "source": [
    "chart = sheet1.charts.add(top=sheet1[\"A19\"].top,\n",
    "                          left=sheet1[\"A19\"].left)\n",
    "chart.chart_type = \"column_clustered\"\n",
    "chart.set_source_data(sheet1[\"A15\"].expand())"
   ]
  },
  {
   "cell_type": "code",
   "execution_count": 37,
   "metadata": {},
   "outputs": [
    {
     "data": {
      "text/html": [
       "<div>\n",
       "<style scoped>\n",
       "    .dataframe tbody tr th:only-of-type {\n",
       "        vertical-align: middle;\n",
       "    }\n",
       "\n",
       "    .dataframe tbody tr th {\n",
       "        vertical-align: top;\n",
       "    }\n",
       "\n",
       "    .dataframe thead th {\n",
       "        text-align: right;\n",
       "    }\n",
       "</style>\n",
       "<table border=\"1\" class=\"dataframe\">\n",
       "  <thead>\n",
       "    <tr style=\"text-align: right;\">\n",
       "      <th></th>\n",
       "      <th>Północ</th>\n",
       "      <th>Południe</th>\n",
       "    </tr>\n",
       "  </thead>\n",
       "  <tbody>\n",
       "    <tr>\n",
       "      <th>Ubiegły rok</th>\n",
       "      <td>2.0</td>\n",
       "      <td>5.0</td>\n",
       "    </tr>\n",
       "    <tr>\n",
       "      <th>Bieżący rok</th>\n",
       "      <td>3.0</td>\n",
       "      <td>6.0</td>\n",
       "    </tr>\n",
       "  </tbody>\n",
       "</table>\n",
       "</div>"
      ],
      "text/plain": [
       "             Północ  Południe\n",
       "Ubiegły rok     2.0       5.0\n",
       "Bieżący rok     3.0       6.0"
      ]
     },
     "execution_count": 37,
     "metadata": {},
     "output_type": "execute_result"
    }
   ],
   "source": [
    "# Wczytanie danych wykresu jako DataFrame\n",
    "df = sheet1[\"A15\"].expand().options(pd.DataFrame).value\n",
    "df"
   ]
  },
  {
   "cell_type": "code",
   "execution_count": 38,
   "metadata": {},
   "outputs": [
    {
     "name": "stderr",
     "output_type": "stream",
     "text": [
      "C:\\Users\\krzys\\AppData\\Local\\Temp\\ipykernel_11280\\2969196276.py:5: MatplotlibDeprecationWarning: The seaborn styles shipped by Matplotlib are deprecated since 3.6, as they no longer correspond to the styles shipped by seaborn. However, they will remain available as 'seaborn-v0_8-<style>'. Alternatively, directly use the seaborn API instead.\n",
      "  plt.style.use(\"seaborn\")\n"
     ]
    }
   ],
   "source": [
    "# Włączenie Matplotlib przy użyciu magicznego polecenia\n",
    "# i przełączenie na styl \"seaborn\"\n",
    "%matplotlib inline\n",
    "import matplotlib.pyplot as plt\n",
    "plt.style.use(\"seaborn\")"
   ]
  },
  {
   "cell_type": "code",
   "execution_count": 39,
   "metadata": {},
   "outputs": [
    {
     "data": {
      "image/png": "[encoded data removed]",
      "text/plain": [
       "<Figure size 800x550 with 1 Axes>"
      ]
     },
     "metadata": {},
     "output_type": "display_data"
    }
   ],
   "source": [
    "# Metoda plot biblioteki pandas zwraca obiekt \"axis\", z którego\n",
    "# można uzyskać obiekt figure. \"T\" wykonuje transpozycję DataFrame,\n",
    "# aby ustawić wykres w żądanej orientacji\n",
    "ax = df.T.plot.bar()\n",
    "fig = ax.get_figure()"
   ]
  },
  {
   "cell_type": "code",
   "execution_count": 40,
   "metadata": {},
   "outputs": [],
   "source": [
    "# Wysłanie wykresu do Excela.\n",
    "plot = sheet1.pictures.add(fig, name=\"SalesPlot\",\n",
    "                           top=sheet1[\"H19\"].top,\n",
    "                           left=sheet1[\"H19\"].left)\n",
    "# Przeskalowanie wykresu do 70%\n",
    "plot.width, plot.height = plot.width * 0.7, plot.height * 0.7"
   ]
  },
  {
   "cell_type": "code",
   "execution_count": 41,
   "metadata": {},
   "outputs": [],
   "source": [
    "ax = (df + 1).T.plot.bar()\n",
    "plot = plot.update(ax.get_figure())"
   ]
  },
  {
   "cell_type": "code",
   "execution_count": 42,
   "metadata": {},
   "outputs": [],
   "source": [
    "# Zakresem domyślnym jest zakres skoroszytu\n",
    "sheet1[\"A1:B2\"].name = \"macierz1\""
   ]
  },
  {
   "cell_type": "code",
   "execution_count": 44,
   "metadata": {},
   "outputs": [],
   "source": [
    "# W przypadku zakresu arkusza po nazwie arkusza\n",
    "# należy wstawić wykrzyknik\n",
    "sheet1[\"B10:E11\"].name = \"Sheet1!macierz2\""
   ]
  },
  {
   "cell_type": "code",
   "execution_count": 45,
   "metadata": {},
   "outputs": [
    {
     "data": {
      "text/plain": [
       "<Range [Book1]Sheet1!$A$1:$B$2>"
      ]
     },
     "execution_count": 45,
     "metadata": {},
     "output_type": "execute_result"
    }
   ],
   "source": [
    "# Teraz możesz uzyskać dostęp do zakresu poprzez nazwę\n",
    "sheet1[\"macierz1\"]"
   ]
  },
  {
   "cell_type": "code",
   "execution_count": 46,
   "metadata": {},
   "outputs": [
    {
     "data": {
      "text/plain": [
       "[<Name 'Sheet1!macierz2': =Sheet1!$B$10:$E$11>]"
      ]
     },
     "execution_count": 46,
     "metadata": {},
     "output_type": "execute_result"
    }
   ],
   "source": [
    "# Jeśli dostęp do kolekcji nazw odbywa się poprzez obiekt \"sheet1\",\n",
    "# zawiera ona tylko nazwy w obrębie tego arkusza\n",
    "sheet1.names"
   ]
  },
  {
   "cell_type": "code",
   "execution_count": 47,
   "metadata": {},
   "outputs": [
    {
     "data": {
      "text/plain": [
       "[<Name 'macierz1': =Sheet1!$A$1:$B$2>, <Name 'Sheet1!macierz2': =Sheet1!$B$10:$E$11>]"
      ]
     },
     "execution_count": 47,
     "metadata": {},
     "output_type": "execute_result"
    }
   ],
   "source": [
    "# Jeśli dostęp do kolekcji nazw odbywa się poprzez obiekt \"book\",\n",
    "# zawiera ona wszystkie nazwy, zarówno w obrębie skoroszytu, jak i arkusza\n",
    "book.names"
   ]
  },
  {
   "cell_type": "code",
   "execution_count": 48,
   "metadata": {},
   "outputs": [
    {
     "data": {
      "text/plain": [
       "<Range [Book1]Sheet1!$A$1:$B$2>"
      ]
     },
     "execution_count": 48,
     "metadata": {},
     "output_type": "execute_result"
    }
   ],
   "source": [
    "# Nazwy mają różne metody i atrybuty.\n",
    "# Dzięki temu możesz np. uzyskać odpowiedni obiekt zakresu.\n",
    "book.names[\"macierz1\"].refers_to_range"
   ]
  },
  {
   "cell_type": "code",
   "execution_count": 50,
   "metadata": {},
   "outputs": [
    {
     "data": {
      "text/plain": [
       "<Name 'EURUSD': =11151>"
      ]
     },
     "execution_count": 50,
     "metadata": {},
     "output_type": "execute_result"
    }
   ],
   "source": [
    "# Jeśli chcesz przypisać nazwę do stałej\n",
    "# lub formuły, użyj metody \"add\"\n",
    "book.names.add(\"EURUSD\", \"1,1151\")"
   ]
  },
  {
   "cell_type": "markdown",
   "metadata": {},
   "source": [
    "# Zagadnienia zaawansowane"
   ]
  },
  {
   "cell_type": "code",
   "execution_count": 53,
   "metadata": {},
   "outputs": [],
   "source": [
    "book = xw.Book()\n",
    "sheet1 = book.sheets[0]\n",
    "sheet1 = book.sheets[\"Sheet1\"]"
   ]
  },
  {
   "cell_type": "markdown",
   "metadata": {},
   "source": [
    "## Wydajność"
   ]
  },
  {
   "cell_type": "code",
   "execution_count": 59,
   "metadata": {},
   "outputs": [],
   "source": [
    "# Dodanie nowego arkusza i wpisanie do niego\n",
    "# 150 wartości, by mieć z czym pracować\n",
    "sheet2 = book.sheets.add()\n",
    "sheet2[\"A1\"].value = np.arange(150).reshape(30, 5)"
   ]
  },
  {
   "cell_type": "code",
   "execution_count": 60,
   "metadata": {},
   "outputs": [
    {
     "name": "stdout",
     "output_type": "stream",
     "text": [
      "CPU times: total: 797 ms\n",
      "Wall time: 2.35 s\n"
     ]
    }
   ],
   "source": [
    "%%time\n",
    "# W ten sposób powstaje 150 wywołań międzyaplikacyjnych\n",
    "for cell in sheet2[\"A1:E30\"]:\n",
    "    cell.value += 1"
   ]
  },
  {
   "cell_type": "code",
   "execution_count": 61,
   "metadata": {},
   "outputs": [
    {
     "name": "stdout",
     "output_type": "stream",
     "text": [
      "CPU times: total: 31.2 ms\n",
      "Wall time: 102 ms\n"
     ]
    }
   ],
   "source": [
    "%%time\n",
    "# W ten sposób powstają tylko dwa wywołania międzyaplikacyjne\n",
    "values = sheet2[\"A1:E30\"].options(np.array).value\n",
    "sheet2[\"A1\"].value = values + 1"
   ]
  },
  {
   "cell_type": "code",
   "execution_count": 62,
   "metadata": {},
   "outputs": [],
   "source": [
    "# W przypadku surowych wartości musisz podać pełny\n",
    "# zakres docelowy, sheet[\"A35\"] już nie zadziała\n",
    "sheet1[\"A35:B36\"].options(\"raw\").value = [[1, 2], [3, 4]]"
   ]
  }
 ],
 "metadata": {
  "kernelspec": {
   "display_name": "Python 3",
   "language": "python",
   "name": "python3"
  },
  "language_info": {
   "codemirror_mode": {
    "name": "ipython",
    "version": 3
   },
   "file_extension": ".py",
   "mimetype": "text/x-python",
   "name": "python",
   "nbconvert_exporter": "python",
   "pygments_lexer": "ipython3",
   "version": "3.9.17"
  }
 },
 "nbformat": 4,
 "nbformat_minor": 4
}
