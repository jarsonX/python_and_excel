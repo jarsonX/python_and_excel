{
 "cells": [
  {
   "cell_type": "code",
   "execution_count": 1,
   "id": "dc79f2ba",
   "metadata": {},
   "outputs": [
    {
     "data": {
      "text/plain": [
       "7"
      ]
     },
     "execution_count": 1,
     "metadata": {},
     "output_type": "execute_result"
    }
   ],
   "source": [
    "3+4"
   ]
  },
  {
   "cell_type": "code",
   "execution_count": 2,
   "id": "0eeb0a20",
   "metadata": {},
   "outputs": [
    {
     "name": "stdout",
     "output_type": "stream",
     "text": [
      "Hello Notebook!\n"
     ]
    }
   ],
   "source": [
    "print(\"Hello Notebook!\")"
   ]
  },
  {
   "cell_type": "markdown",
   "id": "fb0bb67e",
   "metadata": {},
   "source": [
    "# To jest nagłówek pierwszego poziomu\n",
    "\n",
    "## To jest nagłówek drugiego poziomu\n",
    "\n",
    "Tekst może być zapisany czcionką *pochyloną*, **pogrubioną** lub `o stałej szerokości`.\n",
    "\n",
    "* To jest element listy wypunktowanej.\n",
    "* To jest kolejny element listy wypunktowanej."
   ]
  },
  {
   "cell_type": "code",
   "execution_count": null,
   "id": "be4ac051",
   "metadata": {},
   "outputs": [],
   "source": []
  }
 ],
 "metadata": {
  "kernelspec": {
   "display_name": "Python 3 (ipykernel)",
   "language": "python",
   "name": "python3"
  },
  "language_info": {
   "codemirror_mode": {
    "name": "ipython",
    "version": 3
   },
   "file_extension": ".py",
   "mimetype": "text/x-python",
   "name": "python",
   "nbconvert_exporter": "python",
   "pygments_lexer": "ipython3",
   "version": "3.9.17"
  }
 },
 "nbformat": 4,
 "nbformat_minor": 5
}
